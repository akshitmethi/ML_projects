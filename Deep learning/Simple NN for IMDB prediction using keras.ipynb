{
 "cells": [
  {
   "cell_type": "code",
   "execution_count": 1,
   "metadata": {},
   "outputs": [],
   "source": [
    "import numpy as np\n",
    "import pandas as pd"
   ]
  },
  {
   "cell_type": "code",
   "execution_count": 2,
   "metadata": {},
   "outputs": [
    {
     "name": "stderr",
     "output_type": "stream",
     "text": [
      "Using TensorFlow backend.\n"
     ]
    }
   ],
   "source": [
    "from keras import layers\n",
    "from keras import models"
   ]
  },
  {
   "cell_type": "code",
   "execution_count": 3,
   "metadata": {},
   "outputs": [],
   "source": [
    "from keras.datasets import imdb"
   ]
  },
  {
   "cell_type": "code",
   "execution_count": 5,
   "metadata": {},
   "outputs": [],
   "source": [
    "(train_data,train_labels),(test_data,test_labels)=imdb.load_data(num_words=10000)\n"
   ]
  },
  {
   "cell_type": "code",
   "execution_count": 6,
   "metadata": {},
   "outputs": [
    {
     "data": {
      "text/plain": [
       "[1,\n",
       " 14,\n",
       " 22,\n",
       " 16,\n",
       " 43,\n",
       " 530,\n",
       " 973,\n",
       " 1622,\n",
       " 1385,\n",
       " 65,\n",
       " 458,\n",
       " 4468,\n",
       " 66,\n",
       " 3941,\n",
       " 4,\n",
       " 173,\n",
       " 36,\n",
       " 256,\n",
       " 5,\n",
       " 25,\n",
       " 100,\n",
       " 43,\n",
       " 838,\n",
       " 112,\n",
       " 50,\n",
       " 670,\n",
       " 2,\n",
       " 9,\n",
       " 35,\n",
       " 480,\n",
       " 284,\n",
       " 5,\n",
       " 150,\n",
       " 4,\n",
       " 172,\n",
       " 112,\n",
       " 167,\n",
       " 2,\n",
       " 336,\n",
       " 385,\n",
       " 39,\n",
       " 4,\n",
       " 172,\n",
       " 4536,\n",
       " 1111,\n",
       " 17,\n",
       " 546,\n",
       " 38,\n",
       " 13,\n",
       " 447,\n",
       " 4,\n",
       " 192,\n",
       " 50,\n",
       " 16,\n",
       " 6,\n",
       " 147,\n",
       " 2025,\n",
       " 19,\n",
       " 14,\n",
       " 22,\n",
       " 4,\n",
       " 1920,\n",
       " 4613,\n",
       " 469,\n",
       " 4,\n",
       " 22,\n",
       " 71,\n",
       " 87,\n",
       " 12,\n",
       " 16,\n",
       " 43,\n",
       " 530,\n",
       " 38,\n",
       " 76,\n",
       " 15,\n",
       " 13,\n",
       " 1247,\n",
       " 4,\n",
       " 22,\n",
       " 17,\n",
       " 515,\n",
       " 17,\n",
       " 12,\n",
       " 16,\n",
       " 626,\n",
       " 18,\n",
       " 2,\n",
       " 5,\n",
       " 62,\n",
       " 386,\n",
       " 12,\n",
       " 8,\n",
       " 316,\n",
       " 8,\n",
       " 106,\n",
       " 5,\n",
       " 4,\n",
       " 2223,\n",
       " 5244,\n",
       " 16,\n",
       " 480,\n",
       " 66,\n",
       " 3785,\n",
       " 33,\n",
       " 4,\n",
       " 130,\n",
       " 12,\n",
       " 16,\n",
       " 38,\n",
       " 619,\n",
       " 5,\n",
       " 25,\n",
       " 124,\n",
       " 51,\n",
       " 36,\n",
       " 135,\n",
       " 48,\n",
       " 25,\n",
       " 1415,\n",
       " 33,\n",
       " 6,\n",
       " 22,\n",
       " 12,\n",
       " 215,\n",
       " 28,\n",
       " 77,\n",
       " 52,\n",
       " 5,\n",
       " 14,\n",
       " 407,\n",
       " 16,\n",
       " 82,\n",
       " 2,\n",
       " 8,\n",
       " 4,\n",
       " 107,\n",
       " 117,\n",
       " 5952,\n",
       " 15,\n",
       " 256,\n",
       " 4,\n",
       " 2,\n",
       " 7,\n",
       " 3766,\n",
       " 5,\n",
       " 723,\n",
       " 36,\n",
       " 71,\n",
       " 43,\n",
       " 530,\n",
       " 476,\n",
       " 26,\n",
       " 400,\n",
       " 317,\n",
       " 46,\n",
       " 7,\n",
       " 4,\n",
       " 2,\n",
       " 1029,\n",
       " 13,\n",
       " 104,\n",
       " 88,\n",
       " 4,\n",
       " 381,\n",
       " 15,\n",
       " 297,\n",
       " 98,\n",
       " 32,\n",
       " 2071,\n",
       " 56,\n",
       " 26,\n",
       " 141,\n",
       " 6,\n",
       " 194,\n",
       " 7486,\n",
       " 18,\n",
       " 4,\n",
       " 226,\n",
       " 22,\n",
       " 21,\n",
       " 134,\n",
       " 476,\n",
       " 26,\n",
       " 480,\n",
       " 5,\n",
       " 144,\n",
       " 30,\n",
       " 5535,\n",
       " 18,\n",
       " 51,\n",
       " 36,\n",
       " 28,\n",
       " 224,\n",
       " 92,\n",
       " 25,\n",
       " 104,\n",
       " 4,\n",
       " 226,\n",
       " 65,\n",
       " 16,\n",
       " 38,\n",
       " 1334,\n",
       " 88,\n",
       " 12,\n",
       " 16,\n",
       " 283,\n",
       " 5,\n",
       " 16,\n",
       " 4472,\n",
       " 113,\n",
       " 103,\n",
       " 32,\n",
       " 15,\n",
       " 16,\n",
       " 5345,\n",
       " 19,\n",
       " 178,\n",
       " 32]"
      ]
     },
     "execution_count": 6,
     "metadata": {},
     "output_type": "execute_result"
    }
   ],
   "source": [
    "train_data[0]"
   ]
  },
  {
   "cell_type": "code",
   "execution_count": 7,
   "metadata": {},
   "outputs": [
    {
     "data": {
      "text/plain": [
       "9999"
      ]
     },
     "execution_count": 7,
     "metadata": {},
     "output_type": "execute_result"
    }
   ],
   "source": [
    "max_no = max([max(x) for x in train_data])\n",
    "max_no"
   ]
  },
  {
   "cell_type": "code",
   "execution_count": 9,
   "metadata": {},
   "outputs": [],
   "source": [
    "#to convert train_label into one hot encoding\n",
    "def one_hot(train_data,features=10000):\n",
    "    result = np.zeros((train_data.shape[0],features))\n",
    "    for i,seq in enumerate(train_data):\n",
    "        result[i,seq] = 1\n",
    "    return result"
   ]
  },
  {
   "cell_type": "code",
   "execution_count": 10,
   "metadata": {},
   "outputs": [],
   "source": [
    "encoded_train = one_hot(train_data)"
   ]
  },
  {
   "cell_type": "code",
   "execution_count": 45,
   "metadata": {},
   "outputs": [],
   "source": [
    "model = models.Sequential()\n",
    "model.add(layers.Dense(16, activation='relu',input_shape=(10000,)))\n",
    "model.add(layers.Dense(16, activation='relu'))\n",
    "model.add(layers.Dense(1, activation='sigmoid'))"
   ]
  },
  {
   "cell_type": "code",
   "execution_count": 46,
   "metadata": {
    "scrolled": false
   },
   "outputs": [],
   "source": [
    "model.compile(optimizer='rmsprop', loss='binary_crossentropy',metrics=['acc'])"
   ]
  },
  {
   "cell_type": "code",
   "execution_count": 37,
   "metadata": {},
   "outputs": [],
   "source": [
    "encoded_train_val = encoded_train[:10000]\n",
    "encoded_train_train = encoded_train[10000:]\n",
    "#vectorizing train labels\n",
    "train_labels = np.asarray(train_labels).astype('float32')\n",
    "train_labels_val = train_labels[:10000]\n",
    "train_labels_train = train_labels[10000:]"
   ]
  },
  {
   "cell_type": "code",
   "execution_count": 38,
   "metadata": {},
   "outputs": [
    {
     "name": "stdout",
     "output_type": "stream",
     "text": [
      "Train on 15000 samples, validate on 10000 samples\n",
      "Epoch 1/10\n",
      "15000/15000 [==============================] - 20s 1ms/step - loss: 0.5326 - acc: 0.7916 - val_loss: 0.4060 - val_acc: 0.8698\n",
      "Epoch 2/10\n",
      "15000/15000 [==============================] - 5s 317us/step - loss: 0.3257 - acc: 0.8987 - val_loss: 0.3153 - val_acc: 0.8853\n",
      "Epoch 3/10\n",
      "15000/15000 [==============================] - 4s 295us/step - loss: 0.2356 - acc: 0.9244 - val_loss: 0.2826 - val_acc: 0.8901\n",
      "Epoch 4/10\n",
      "15000/15000 [==============================] - 5s 305us/step - loss: 0.1867 - acc: 0.9396 - val_loss: 0.2861 - val_acc: 0.8839\n",
      "Epoch 5/10\n",
      "15000/15000 [==============================] - 4s 296us/step - loss: 0.1503 - acc: 0.9519 - val_loss: 0.2768 - val_acc: 0.8888\n",
      "Epoch 6/10\n",
      "15000/15000 [==============================] - 4s 294us/step - loss: 0.1258 - acc: 0.9613 - val_loss: 0.3129 - val_acc: 0.8795\n",
      "Epoch 7/10\n",
      "15000/15000 [==============================] - 4s 297us/step - loss: 0.1047 - acc: 0.9685 - val_loss: 0.3116 - val_acc: 0.8843\n",
      "Epoch 8/10\n",
      "15000/15000 [==============================] - 4s 300us/step - loss: 0.0883 - acc: 0.9731 - val_loss: 0.3213 - val_acc: 0.8815\n",
      "Epoch 9/10\n",
      "15000/15000 [==============================] - 5s 307us/step - loss: 0.0739 - acc: 0.9792 - val_loss: 0.3542 - val_acc: 0.8817\n",
      "Epoch 10/10\n",
      "15000/15000 [==============================] - 5s 333us/step - loss: 0.0599 - acc: 0.9849 - val_loss: 0.3967 - val_acc: 0.8747\n"
     ]
    }
   ],
   "source": [
    "result = model.fit(encoded_train_train,train_labels_train,epochs=10,batch_size=512,validation_data=[encoded_train_val,train_labels_val])"
   ]
  },
  {
   "cell_type": "code",
   "execution_count": 39,
   "metadata": {},
   "outputs": [
    {
     "data": {
      "text/plain": [
       "[0.40603984861373904,\n",
       " 0.31527689533233644,\n",
       " 0.28260789179801943,\n",
       " 0.2860630591869354,\n",
       " 0.27684296832084654,\n",
       " 0.31293994336128234,\n",
       " 0.3115653853416443,\n",
       " 0.32128802351951596,\n",
       " 0.354228445148468,\n",
       " 0.3967072114467621]"
      ]
     },
     "execution_count": 39,
     "metadata": {},
     "output_type": "execute_result"
    }
   ],
   "source": [
    "history = result.history\n",
    "history['val_loss']"
   ]
  },
  {
   "cell_type": "code",
   "execution_count": 22,
   "metadata": {},
   "outputs": [],
   "source": [
    "import matplotlib.pyplot as plt"
   ]
  },
  {
   "cell_type": "code",
   "execution_count": 40,
   "metadata": {},
   "outputs": [],
   "source": [
    "val_loss = history['val_loss']\n",
    "loss = history['loss']"
   ]
  },
  {
   "cell_type": "code",
   "execution_count": 41,
   "metadata": {},
   "outputs": [
    {
     "name": "stdout",
     "output_type": "stream",
     "text": [
      "[ 1  2  3  4  5  6  7  8  9 10]\n"
     ]
    }
   ],
   "source": [
    "epoch = np.arange(1,len(val_loss)+1)\n",
    "print(epoch)"
   ]
  },
  {
   "cell_type": "code",
   "execution_count": 42,
   "metadata": {},
   "outputs": [
    {
     "data": {
      "text/plain": [
       "<matplotlib.legend.Legend at 0x1b313984278>"
      ]
     },
     "execution_count": 42,
     "metadata": {},
     "output_type": "execute_result"
    },
    {
     "data": {
      "image/png": "[encoded data removed]",
      "text/plain": [
       "<Figure size 432x288 with 1 Axes>"
      ]
     },
     "metadata": {
      "needs_background": "light"
     },
     "output_type": "display_data"
    }
   ],
   "source": [
    "plt.plot(epoch,val_loss,'b',label='validation loss')\n",
    "plt.plot(epoch,loss,'bo',label='training loss')\n",
    "plt.title('training and validation loss')\n",
    "plt.xlabel('epochs')\n",
    "plt.ylabel('loss')\n",
    "plt.legend()"
   ]
  },
  {
   "cell_type": "markdown",
   "metadata": {},
   "source": [
    "upto 5 epochs validation loss reduces to its lowest, so let's train our network till 5 epochs"
   ]
  },
  {
   "cell_type": "code",
   "execution_count": 47,
   "metadata": {},
   "outputs": [
    {
     "name": "stdout",
     "output_type": "stream",
     "text": [
      "Train on 15000 samples, validate on 10000 samples\n",
      "Epoch 1/5\n",
      "15000/15000 [==============================] - 15s 992us/step - loss: 0.5015 - acc: 0.7933 - val_loss: 0.3799 - val_acc: 0.8653\n",
      "Epoch 2/5\n",
      "15000/15000 [==============================] - 5s 302us/step - loss: 0.2990 - acc: 0.9042 - val_loss: 0.3143 - val_acc: 0.8814\n",
      "Epoch 3/5\n",
      "15000/15000 [==============================] - 4s 283us/step - loss: 0.2148 - acc: 0.9317 - val_loss: 0.3092 - val_acc: 0.8773\n",
      "Epoch 4/5\n",
      "15000/15000 [==============================] - 5s 300us/step - loss: 0.1708 - acc: 0.9449 - val_loss: 0.2828 - val_acc: 0.8875\n",
      "Epoch 5/5\n",
      "15000/15000 [==============================] - 4s 287us/step - loss: 0.1420 - acc: 0.9547 - val_loss: 0.2830 - val_acc: 0.8876\n"
     ]
    }
   ],
   "source": [
    "result = model.fit(encoded_train_train,train_labels_train,epochs=5,batch_size=512,validation_data=[encoded_train_val,train_labels_val])"
   ]
  },
  {
   "cell_type": "markdown",
   "metadata": {},
   "source": [
    "# Testing this model on our test set"
   ]
  },
  {
   "cell_type": "code",
   "execution_count": 48,
   "metadata": {},
   "outputs": [
    {
     "name": "stdout",
     "output_type": "stream",
     "text": [
      "25000/25000 [==============================] - 7s 277us/step\n"
     ]
    },
    {
     "data": {
      "text/plain": [
       "[0.30228790855407717, 0.87956]"
      ]
     },
     "execution_count": 48,
     "metadata": {},
     "output_type": "execute_result"
    }
   ],
   "source": [
    "test_data = one_hot(test_data)\n",
    "test_labels = np.asarray(test_labels).astype('float32')\n",
    "score = model.evaluate(test_data,test_labels)\n",
    "score"
   ]
  },
  {
   "cell_type": "markdown",
   "metadata": {},
   "source": [
    "This simple NN of 2 hidden layers of size 16 achieves accuracy of 87.9% which is fairly good for this naive network. It could reach upto 95% with more complex NN archietecture"
   ]
  }
 ],
 "metadata": {
  "kernelspec": {
   "display_name": "Python 3",
   "language": "python",
   "name": "python3"
  },
  "language_info": {
   "codemirror_mode": {
    "name": "ipython",
    "version": 3
   },
   "file_extension": ".py",
   "mimetype": "text/x-python",
   "name": "python",
   "nbconvert_exporter": "python",
   "pygments_lexer": "ipython3",
   "version": "3.6.6rc1"
  }
 },
 "nbformat": 4,
 "nbformat_minor": 2
}
